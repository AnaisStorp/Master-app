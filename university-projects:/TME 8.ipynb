{
 "cells": [
  {
   "cell_type": "markdown",
   "id": "46492c57-b0a0-4fec-b493-7a95b2c6bc1c",
   "metadata": {},
   "source": [
    "\n",
    "\n",
    "<h1><center>De la donnée aux bases de données - S2-23</center></h1>\n",
    "<h1><center>TP noté - Ecrire dans une base de donnée</center></h1>\n",
    "\n",
    "\n"
   ]
  },
  {
   "cell_type": "markdown",
   "id": "6a7f89f5-17bb-4b48-8c8f-d2bfed0f2d63",
   "metadata": {},
   "source": [
    "#### Nom étudiant 1 : Isabella Raevel\n",
    "#### Nom étudiant 2 : Anais Storp "
   ]
  },
  {
   "cell_type": "markdown",
   "id": "8f71ce81",
   "metadata": {},
   "source": [
    "# Sommaire \n",
    "\n",
    "- [  Introduction : description des données et quelle tâche y est associée](#chapter1)\n",
    "    - [ Installation de SQLAlchemy et import des bibliothéques ](#section_1_1)\n",
    "    - [ Le client SQL: création de fonction amélioratrices ](#section_1_2)\n",
    "    - [ Exemples d'utilisations ](#section_1_3)\n",
    "- [Creer une table et inserer des données programmatiquement](#chapter2)\n",
    "  - [Étape 1: Création et de  la base et d'ue table acceuillant les données ](#section_2_1)\n",
    "  - [Étape 2: Convertion des donnés et troubleshooting ](#section_2_2)\n",
    "  - [Étape 3: Insertion des données dans la base](#section_2_3)\n",
    "    - [Tests](#section_2_3_1)\n",
    "  - [Étape 4: Amelioration des performances](#section_2_4)\n",
    "  - [Étape 5: Méthode alternative](#section_2_5)\n"
   ]
  },
  {
   "cell_type": "markdown",
   "id": "2f47536b",
   "metadata": {},
   "source": [
    "### <ins>Introduction : description des données et quelle tâche y est associée</ins> <a class=\"anchor\" id=\"chapter1\"></a>\n",
    "\n",
    "\n",
    "Dans ce notebook, nous utiliserons SQLAlchemy, une bibliothèque Python populaire pour l'interaction avec les bases de données relationnelles. SQLAlchemy offre une approche flexible pour travailler avec les bases de données, permettant l'utilisation de langage SQL tout en bénéficiant des fonctionnalités de Python.\n",
    "\n",
    "#### <ins>Installation de SQLAlchemy et import des bibliothéques </ins>  <a class=\"anchor\" id=\"section_1_1\"></a>\n",
    "\n",
    "\n",
    "Premièrement nous installons SQLAlchemy et nous verifions si nous avons bien la version la plus récente. Ensuite nou simportant les bibliothèques nécessaires dans notre script Python: pandas est utilisée pour la manipulation et l'analyse de données; numpy nous sert à effectuer des calculs numériques sur des tableaux; mysql.connector founit des fonctionnalitßes du module sqlalchemy; create_engine et text sont importées à partir du module sqlalchemy. \n"
   ]
  },
  {
   "cell_type": "code",
   "execution_count": 1,
   "id": "c2f5ec9f",
   "metadata": {},
   "outputs": [
    {
     "name": "stdout",
     "output_type": "stream",
     "text": [
      "Requirement already satisfied: SQLAlchemy in /Users/anais/anaconda3/lib/python3.10/site-packages (2.0.29)\n",
      "Requirement already satisfied: typing-extensions>=4.6.0 in /Users/anais/anaconda3/lib/python3.10/site-packages (from SQLAlchemy) (4.10.0)\n",
      "Requirement already satisfied: greenlet!=0.4.17 in /Users/anais/anaconda3/lib/python3.10/site-packages (from SQLAlchemy) (2.0.1)\n",
      "Note: you may need to restart the kernel to use updated packages.\n"
     ]
    }
   ],
   "source": [
    "%pip install SQLAlchemy"
   ]
  },
  {
   "cell_type": "code",
   "execution_count": 2,
   "id": "03a33a05",
   "metadata": {},
   "outputs": [],
   "source": [
    "import pandas as pd\n",
    "import numpy as np\n",
    "import mysql.connector \n",
    "from sqlalchemy import create_engine\n",
    "from sqlalchemy import text"
   ]
  },
  {
   "cell_type": "code",
   "execution_count": 3,
   "id": "48401233",
   "metadata": {},
   "outputs": [
    {
     "name": "stdout",
     "output_type": "stream",
     "text": [
      "Requirement already satisfied: SQLAlchemy in /Users/anais/anaconda3/lib/python3.10/site-packages (2.0.29)\n",
      "Requirement already satisfied: typing-extensions>=4.6.0 in /Users/anais/anaconda3/lib/python3.10/site-packages (from SQLAlchemy) (4.10.0)\n",
      "Requirement already satisfied: greenlet!=0.4.17 in /Users/anais/anaconda3/lib/python3.10/site-packages (from SQLAlchemy) (2.0.1)\n",
      "Note: you may need to restart the kernel to use updated packages.\n"
     ]
    }
   ],
   "source": [
    "%pip install --upgrade SQLAlchemy"
   ]
  },
  {
   "cell_type": "markdown",
   "id": "4933bc3d",
   "metadata": {},
   "source": [
    "#### <ins>Le client SQL: création de fonction amélioratrices</ins> <a class=\"anchor\" id=\"section_1_2\"></a>\n",
    "\n",
    "On va \"ameliorer\" notre client en creant deux fonctions\n",
    "- **execute_statement** qui va executer une statement SQL et ramener le result set si fetch_data=True (attention il faut que ce soit pertinent)\n",
    "- **read_dataframe** : qui va executer une query \"SELECT ...\" et retourner un dataframe former avec le resultat\n",
    "\n",
    "on s'assurera aussi explicitement que toutes les connections à MySQL sont bien fermées à la sortie de ces fonctions"
   ]
  },
  {
   "cell_type": "code",
   "execution_count": 4,
   "id": "941ce0d2-5cac-45c3-9ee2-774b806524d1",
   "metadata": {},
   "outputs": [],
   "source": [
    "from sqlalchemy import create_engine, text \n",
    "\n",
    "mysql_USERNAME = 'root'\n",
    "mysql_PASSWORD = 'Paris2024*'\n",
    "mysql_host = '127.0.0.1'\n",
    "mysql_port = '3306'\n",
    "\n",
    "def execute_statement(statement, \n",
    "                      db_name=None,\n",
    "                      fetch_data=False,\n",
    "                      echo=False\n",
    "                     ):\n",
    "    if db_name is None:\n",
    "        my_db_connection_str = f'mysql+mysqlconnector://{mysql_USERNAME}:{mysql_PASSWORD}@{mysql_host}:{mysql_port}'\n",
    "    else:\n",
    "        my_db_connection_str = f'mysql+mysqlconnector://{mysql_USERNAME}:{mysql_PASSWORD}@{mysql_host}:{mysql_port}/{db_name}'\n",
    "\n",
    "    db_connectable = create_engine(my_db_connection_str, echo=echo)\n",
    "    with db_connectable.begin() as connection:\n",
    "        statement = text(statement)\n",
    "        cursor_result = connection.execute(statement)\n",
    "        if fetch_data:\n",
    "            return cursor_result  \n",
    "        else:\n",
    "            \n",
    "            return None\n",
    "\n",
    "   \n",
    "    db_connectable.dispose()\n"
   ]
  },
  {
   "cell_type": "code",
   "execution_count": 5,
   "id": "095acb9e-3f6f-47ff-8cf9-8419fc0d53b6",
   "metadata": {},
   "outputs": [],
   "source": [
    "\n",
    "def read_dataframe(query, db_name=None):\n",
    "    if db_name is None:\n",
    "         my_db_connection_str = 'mysql+mysqlconnector://{}:{}@{}'.format(mysql_USERNAME, mysql_PASSWORD, '127.0.0.1')\n",
    "    else:\n",
    "       my_db_connection_str = 'mysql+mysqlconnector://{}:{}@{}/{}'.format(mysql_USERNAME, mysql_PASSWORD, '127.0.0.1', db_name)\n",
    "\n",
    "    \n",
    "    db_connectable = create_engine(my_db_connection_str)\n",
    "    with db_connectable.begin() as connection:\n",
    "        query = text(query)\n",
    "        df = pd.read_sql_query(query,  connection)\n",
    "\n",
    "    # Fermer toutes les connexions après l'exécution de la requête\n",
    "        db_connectable.dispose()\n",
    "        \n",
    "    return df\n"
   ]
  },
  {
   "cell_type": "markdown",
   "id": "9de3cbad-ac87-4c87-99c4-fec413cc0143",
   "metadata": {},
   "source": [
    "#### <ins>Exemples d'utilisations</ins>  <a class=\"anchor\" id=\"section_1_3\"></a>\n",
    "\n",
    "Les exemples d'utilisation des fonctions read_dataframe et execute_statement illustrent comment ces fonctions peuvent être utilisées pour interagir avec une base de données MySQL à l'aide de SQLAlchemy."
   ]
  },
  {
   "cell_type": "code",
   "execution_count": 6,
   "id": "8afc94a8-03f0-42f1-afe1-2ae3f44079d7",
   "metadata": {
    "scrolled": true
   },
   "outputs": [
    {
     "data": {
      "text/html": [
       "<div>\n",
       "<style scoped>\n",
       "    .dataframe tbody tr th:only-of-type {\n",
       "        vertical-align: middle;\n",
       "    }\n",
       "\n",
       "    .dataframe tbody tr th {\n",
       "        vertical-align: top;\n",
       "    }\n",
       "\n",
       "    .dataframe thead th {\n",
       "        text-align: right;\n",
       "    }\n",
       "</style>\n",
       "<table border=\"1\" class=\"dataframe\">\n",
       "  <thead>\n",
       "    <tr style=\"text-align: right;\">\n",
       "      <th></th>\n",
       "      <th>actor_id</th>\n",
       "      <th>first_name</th>\n",
       "      <th>last_name</th>\n",
       "      <th>last_update</th>\n",
       "    </tr>\n",
       "  </thead>\n",
       "  <tbody>\n",
       "    <tr>\n",
       "      <th>0</th>\n",
       "      <td>1</td>\n",
       "      <td>PENELOPE</td>\n",
       "      <td>GUINESS</td>\n",
       "      <td>2006-02-15 04:34:33</td>\n",
       "    </tr>\n",
       "    <tr>\n",
       "      <th>1</th>\n",
       "      <td>2</td>\n",
       "      <td>NICK</td>\n",
       "      <td>WAHLBERG</td>\n",
       "      <td>2006-02-15 04:34:33</td>\n",
       "    </tr>\n",
       "    <tr>\n",
       "      <th>2</th>\n",
       "      <td>3</td>\n",
       "      <td>ED</td>\n",
       "      <td>CHASE</td>\n",
       "      <td>2006-02-15 04:34:33</td>\n",
       "    </tr>\n",
       "    <tr>\n",
       "      <th>3</th>\n",
       "      <td>4</td>\n",
       "      <td>JENNIFER</td>\n",
       "      <td>DAVIS</td>\n",
       "      <td>2006-02-15 04:34:33</td>\n",
       "    </tr>\n",
       "    <tr>\n",
       "      <th>4</th>\n",
       "      <td>5</td>\n",
       "      <td>JOHNNY</td>\n",
       "      <td>LOLLOBRIGIDA</td>\n",
       "      <td>2006-02-15 04:34:33</td>\n",
       "    </tr>\n",
       "  </tbody>\n",
       "</table>\n",
       "</div>"
      ],
      "text/plain": [
       "   actor_id first_name     last_name         last_update\n",
       "0         1   PENELOPE       GUINESS 2006-02-15 04:34:33\n",
       "1         2       NICK      WAHLBERG 2006-02-15 04:34:33\n",
       "2         3         ED         CHASE 2006-02-15 04:34:33\n",
       "3         4   JENNIFER         DAVIS 2006-02-15 04:34:33\n",
       "4         5     JOHNNY  LOLLOBRIGIDA 2006-02-15 04:34:33"
      ]
     },
     "execution_count": 6,
     "metadata": {},
     "output_type": "execute_result"
    }
   ],
   "source": [
    "# lire un dataframe en specifiant dans la connection le nom de la database\n",
    "query = 'SELECT * FROM actor'\n",
    "\n",
    "df = read_dataframe(query, db_name='sakila')\n",
    "df.head()"
   ]
  },
  {
   "cell_type": "code",
   "execution_count": 7,
   "id": "c19b20ce-4ed7-49b0-9491-ade6585f9a28",
   "metadata": {},
   "outputs": [
    {
     "data": {
      "text/html": [
       "<div>\n",
       "<style scoped>\n",
       "    .dataframe tbody tr th:only-of-type {\n",
       "        vertical-align: middle;\n",
       "    }\n",
       "\n",
       "    .dataframe tbody tr th {\n",
       "        vertical-align: top;\n",
       "    }\n",
       "\n",
       "    .dataframe thead th {\n",
       "        text-align: right;\n",
       "    }\n",
       "</style>\n",
       "<table border=\"1\" class=\"dataframe\">\n",
       "  <thead>\n",
       "    <tr style=\"text-align: right;\">\n",
       "      <th></th>\n",
       "      <th>actor_id</th>\n",
       "      <th>first_name</th>\n",
       "      <th>last_name</th>\n",
       "      <th>last_update</th>\n",
       "    </tr>\n",
       "  </thead>\n",
       "  <tbody>\n",
       "    <tr>\n",
       "      <th>0</th>\n",
       "      <td>1</td>\n",
       "      <td>PENELOPE</td>\n",
       "      <td>GUINESS</td>\n",
       "      <td>2006-02-15 04:34:33</td>\n",
       "    </tr>\n",
       "    <tr>\n",
       "      <th>1</th>\n",
       "      <td>2</td>\n",
       "      <td>NICK</td>\n",
       "      <td>WAHLBERG</td>\n",
       "      <td>2006-02-15 04:34:33</td>\n",
       "    </tr>\n",
       "    <tr>\n",
       "      <th>2</th>\n",
       "      <td>3</td>\n",
       "      <td>ED</td>\n",
       "      <td>CHASE</td>\n",
       "      <td>2006-02-15 04:34:33</td>\n",
       "    </tr>\n",
       "    <tr>\n",
       "      <th>3</th>\n",
       "      <td>4</td>\n",
       "      <td>JENNIFER</td>\n",
       "      <td>DAVIS</td>\n",
       "      <td>2006-02-15 04:34:33</td>\n",
       "    </tr>\n",
       "    <tr>\n",
       "      <th>4</th>\n",
       "      <td>5</td>\n",
       "      <td>JOHNNY</td>\n",
       "      <td>LOLLOBRIGIDA</td>\n",
       "      <td>2006-02-15 04:34:33</td>\n",
       "    </tr>\n",
       "  </tbody>\n",
       "</table>\n",
       "</div>"
      ],
      "text/plain": [
       "   actor_id first_name     last_name         last_update\n",
       "0         1   PENELOPE       GUINESS 2006-02-15 04:34:33\n",
       "1         2       NICK      WAHLBERG 2006-02-15 04:34:33\n",
       "2         3         ED         CHASE 2006-02-15 04:34:33\n",
       "3         4   JENNIFER         DAVIS 2006-02-15 04:34:33\n",
       "4         5     JOHNNY  LOLLOBRIGIDA 2006-02-15 04:34:33"
      ]
     },
     "execution_count": 7,
     "metadata": {},
     "output_type": "execute_result"
    }
   ],
   "source": [
    "# lire un dataframe sans specifiant dans la connection le nom de la database\n",
    "query = 'SELECT * FROM sakila.actor'\n",
    "\n",
    "df = read_dataframe(query, db_name=None)\n",
    "df.head()"
   ]
  },
  {
   "cell_type": "markdown",
   "id": "3505e3df",
   "metadata": {},
   "source": [
    "<div class=\"alert alert-block alert-info\">\n",
    "<b>Utilisation de read_dataframe:</b> \n",
    "La fonction read_dataframe est conçue pour exécuter une requête SQL SELECT sur une base de données MySQL et renvoyer les résultats sous forme de DataFrame pandas. Dans l'exemple, nous utilisons cette fonction pour sélectionner toutes les données de la table \"planet\" et les stocker dans un DataFrame appelé df_from_db. Cela permet de manipuler facilement et d'analyser les données récupérées à partir de la base de données, car les DataFrames pandas offrent de nombreuses fonctionnalités pour travailler avec les données tabulaires.\n",
    "</div>"
   ]
  },
  {
   "cell_type": "code",
   "execution_count": 8,
   "id": "3ff4793e-bbfe-41aa-9479-7a791ecaf3bf",
   "metadata": {
    "scrolled": true
   },
   "outputs": [
    {
     "data": {
      "text/plain": [
       "<sqlalchemy.engine.cursor.CursorResult at 0x7fdb0a4a9de0>"
      ]
     },
     "execution_count": 8,
     "metadata": {},
     "output_type": "execute_result"
    }
   ],
   "source": [
    "# recuperer directement les données d'un select en specifiant dans la database dans la connection\n",
    "statement = 'select * from actor'\n",
    "execute_statement(statement, fetch_data=True, db_name='sakila')"
   ]
  },
  {
   "cell_type": "code",
   "execution_count": 9,
   "id": "456a68de-da7c-4f61-a6c7-9cc8322d7b99",
   "metadata": {
    "scrolled": true
   },
   "outputs": [
    {
     "data": {
      "text/plain": [
       "<sqlalchemy.engine.cursor.CursorResult at 0x7fdb0a393100>"
      ]
     },
     "execution_count": 9,
     "metadata": {},
     "output_type": "execute_result"
    }
   ],
   "source": [
    "# recuperer les données d'un select en specifiant dans la database dansle statement SQL\n",
    "statement = 'select * from sakila.actor'\n",
    "execute_statement(statement, fetch_data=True, db_name=None)"
   ]
  },
  {
   "cell_type": "code",
   "execution_count": 10,
   "id": "53a4d34f-def6-4251-bff7-788ab6c84621",
   "metadata": {
    "scrolled": true
   },
   "outputs": [
    {
     "data": {
      "text/plain": [
       "<sqlalchemy.engine.cursor.CursorResult at 0x7fdb0a4aa7a0>"
      ]
     },
     "execution_count": 10,
     "metadata": {},
     "output_type": "execute_result"
    }
   ],
   "source": [
    "# liste des tables dans une database\n",
    "statement = 'SHOW TABLES'\n",
    "execute_statement(statement, fetch_data=True, db_name='sakila')"
   ]
  },
  {
   "cell_type": "markdown",
   "id": "271d65bd",
   "metadata": {},
   "source": [
    "<div class=\"alert alert-block alert-info\">\n",
    "<b>Utilisation de execute_statement:</b> \n",
    "La fonction execute_statement est utilisée pour exécuter une requête SQL quelconque sur une base de données MySQL. Dans l'exemple, nous utilisons cette fonction pour exécuter une instruction SQL DELETE afin de supprimer toutes les données de la table \"planet\". Cela peut être utile dans divers scénarios où nous devons effectuer des opérations d'écriture sur la base de données, telles que l'insertion, la mise à jour ou la suppression de données.\n",
    "</div>"
   ]
  },
  {
   "cell_type": "code",
   "execution_count": 11,
   "id": "3811a8fc-57bd-499d-859c-76391aac9680",
   "metadata": {},
   "outputs": [],
   "source": [
    "# creation d'une database test \n",
    "statement = 'DROP DATABASE IF EXISTS test'\n",
    "execute_statement(statement, fetch_data=False, db_name=None)\n",
    "\n",
    "statement = 'CREATE DATABASE test'\n",
    "execute_statement(statement, fetch_data=False, db_name=None)"
   ]
  },
  {
   "cell_type": "code",
   "execution_count": 12,
   "id": "d5035330-0d13-47fa-bd24-3fbdbeba3f15",
   "metadata": {},
   "outputs": [
    {
     "name": "stdout",
     "output_type": "stream",
     "text": [
      "<sqlalchemy.engine.cursor.CursorResult object at 0x7fdb0a4a90c0>\n",
      "<sqlalchemy.engine.cursor.CursorResult object at 0x7fdb0a4aa8c0>\n"
     ]
    }
   ],
   "source": [
    "#creer une table dans la database test\n",
    "\n",
    "statement = 'SHOW TABLES'\n",
    "print(execute_statement(statement, fetch_data=True, db_name='test'))\n",
    "\n",
    "\n",
    "statement = 'DROP TABLE IF EXISTS test.countries;'\n",
    "execute_statement(statement, fetch_data=False, db_name='test')\n",
    "\n",
    "statement = 'CREATE TABLE countries (country_id CHAR(2) NOT NULL, country_name VARCHAR(40), region_id INT (11) UNSIGNED NOT NULL,PRIMARY KEY (country_id));'\n",
    "\n",
    "execute_statement(statement, fetch_data=False, db_name='test')\n",
    "\n",
    "print(execute_statement('SHOW TABLES', fetch_data=True, db_name='test'))"
   ]
  },
  {
   "cell_type": "code",
   "execution_count": 13,
   "id": "7731bd8e-bbf1-41e8-a200-9dcb0f742621",
   "metadata": {},
   "outputs": [],
   "source": [
    "# inserer une ligne\n",
    "statement = \"INSERT INTO countries VALUES ('IT','Italy',1);\"\n",
    "execute_statement(statement, fetch_data=False, db_name='test')"
   ]
  },
  {
   "cell_type": "code",
   "execution_count": 14,
   "id": "016e239e-3400-43c1-8686-5094ee52a2f2",
   "metadata": {},
   "outputs": [],
   "source": [
    "# inserer des lignes\n",
    "statement = \"INSERT INTO countries VALUES  ('JP', 'Japan', 3), ('US', 'United States of America', 2);\"\n",
    "execute_statement(statement, fetch_data=False, db_name='test')"
   ]
  },
  {
   "cell_type": "markdown",
   "id": "497629de-584e-4f99-bc31-34133f27ed40",
   "metadata": {},
   "source": [
    "###  <ins>Creer une table et inserer des données programmatiquement</ins>  <a class=\"anchor\" id=\"chapter2\"></a>\n",
    "\n",
    "---\n",
    "\n",
    "le but est de crée une table programatiquement avec les données du catalog des exo planets de trois manieres\n",
    "\n",
    "1. en inserant les données ligne par ligne\n",
    "2. en inserant les données en \"batch\"\n",
    "3. LOAD DATA pour chargé les données d'un fichier csv\n",
    "\n",
    "pour nous faciliter la vie nous allons \"tricher\" et commencer par faire lire le csv par pandas"
   ]
  },
  {
   "cell_type": "code",
   "execution_count": 15,
   "id": "7017b8bb-f4e8-44d1-94a8-e8c9175d135a",
   "metadata": {},
   "outputs": [
    {
     "name": "stdout",
     "output_type": "stream",
     "text": [
      "(5586, 10)\n"
     ]
    }
   ],
   "source": [
    "import pandas as pd\n",
    "\n",
    "df = pd.read_csv(\"exoplanets.csv\") #Nous trichant en tßelechargeant le dossier csv localement pour le lire directement avec pandas\n",
    "\n",
    "cols = ['name', 'mass', 'radius', 'orbital_period', 'eccentricity', 'discovered', 'detection_type',\n",
    "        'star_name', 'star_distance', 'star_mass']\n",
    "df = df[cols] #Nous créons le dataframe avec les colonnes choisies\n",
    "\n",
    "print(df.shape) #Nous obtenons un dataframes a 5586 lignes et 10 colonnes\n"
   ]
  },
  {
   "cell_type": "markdown",
   "id": "161ede48-f935-43da-be85-0964d2bd6b25",
   "metadata": {},
   "source": [
    "<div class=\"alert alert-block alert-success\">\n",
    "<b>Simplification: </b> Nous allons considerer que toutes les colonnes numeriques sont de type FLOAT et \n",
    "que toutes les colonnes non numeriques sont de types VARCHAR(225)\n",
    "Pour faire la difference nous utiliserons la fonction DataFrames.select_dtypes comme ci dessous pour recuperer la liste des colonnes numeriques et la listes des colonnes non numeriques\n",
    "</div>\n"
   ]
  },
  {
   "cell_type": "code",
   "execution_count": 16,
   "id": "d7e57ab6-677c-47ff-a31e-49bb2442b073",
   "metadata": {},
   "outputs": [],
   "source": [
    "cols_num = df.select_dtypes(include=np.number).columns.tolist()\n",
    "cols_notnum = df.select_dtypes(exclude=np.number).columns.tolist()"
   ]
  },
  {
   "cell_type": "markdown",
   "id": "c3a152e4",
   "metadata": {},
   "source": [
    "####  <ins>Étape 1: Création et de  la base et d'ue table acceuillant les données </ins>  <a  id=\"section_2_1\"></a>\n",
    "___\n",
    "\n",
    "Creer une DATABASE de test et dans cette base creer une table planet ayant les memes colonnes que df.\n",
    "\n",
    "Pour cela il faut commencer par generer de maniere programatique le statement SQL en se servant des variables cols_num pour determiner les types puis l'executer."
   ]
  },
  {
   "cell_type": "code",
   "execution_count": 17,
   "id": "cdca13bf",
   "metadata": {},
   "outputs": [
    {
     "name": "stdout",
     "output_type": "stream",
     "text": [
      "<sqlalchemy.engine.cursor.CursorResult object at 0x7fdb0a4ab100>\n",
      "<sqlalchemy.engine.cursor.CursorResult object at 0x7fdb0a4a9900>\n"
     ]
    }
   ],
   "source": [
    "# creation d'une database test \n",
    "statement = 'DROP DATABASE IF EXISTS planetes' #On \"drop\" tout database déjà existant sous le même nom pour éviter les problèmes/confusions\n",
    "execute_statement(statement, fetch_data=False, db_name=None)\n",
    "\n",
    "statement = 'CREATE DATABASE planetes' #On crée notre base de données et on l'a nomme \"planetes\"\n",
    "execute_statement(statement, fetch_data=False, db_name=None)\n",
    "\n",
    "\n",
    "\n",
    "col_types = {\n",
    "    'name': 'VARCHAR(255)',  # Nous avons définis une longeure maximale arbitrairement \n",
    "    'mass': 'FLOAT',\n",
    "    'radius': 'FLOAT',\n",
    "    'orbital_period': 'FLOAT',\n",
    "    'eccentricity': 'FLOAT',\n",
    "    'discovered': 'FLOAT',  # Ici on a utilisé float et non Year puisque les années sont données avec une décimale dans le fichier csv\n",
    "    'detection_type': 'VARCHAR(255)',  #Nous avons choisi une longeure maximale très importante pour éviter les problèmes après\n",
    "    'star_name': 'VARCHAR(255)',\n",
    "    'star_distance': 'FLOAT',\n",
    "    'star_mass': 'FLOAT'\n",
    "}\n",
    "#creer une table dans la database test\n",
    "statement = 'SHOW TABLES'\n",
    "print(execute_statement(statement, fetch_data=True, db_name='planetes'))\n",
    "\n",
    "statement = 'DROP TABLE IF EXISTS planetes.planet;' #On verifie que la table planet n'existe pas \n",
    "execute_statement(statement, fetch_data=False, db_name='test')\n",
    "\n",
    "create_table_sql = 'CREATE TABLE planet ('\n",
    "for col_name, col_type in col_types.items():\n",
    "    create_table_sql += f'{col_name} {col_type}, '\n",
    "create_table_sql = create_table_sql[:-2] + ')'  # on supprime la dernière virgule et l'espace\n",
    "\n",
    "# on exécute le code SQL pour créer la table dans la base de données planetes\n",
    "execute_statement(create_table_sql, fetch_data=False, db_name='planetes')\n",
    "\n",
    "# on vérifie bien que la table a bien été créée\n",
    "print(execute_statement('SHOW TABLES', fetch_data=True, db_name='planetes'))\n",
    "\n"
   ]
  },
  {
   "cell_type": "markdown",
   "id": "bde7ab07-abe0-4ba3-8784-1817dfdb8e6b",
   "metadata": {},
   "source": [
    "####  <ins>Étape 2: Convertion des donnés et troubleshooting </ins>  <a class=\"anchor\" id=\"section_2_2\"></a>\n",
    "Ensuite pour inserer ligne par ligne on creer une fonction gen_st_row(df, row_number, cols_num) qui prend argument\n",
    "\n",
    "___\n",
    "- un dataframe df\n",
    "- le numero de la ligne considerer\n",
    "- la liste des colonnes numeriques (les colonnes non numeriques sont reputées etre des colonnes de type chaine de caracteres)\n",
    "et qui renvoie le statement insert correspondant.\n",
    "\n",
    "Il faudra prendre garde de \n",
    "1. transformer les NaN en NULL (on poura se servir de la fonction pd.isna pour les reconnaitre)\n",
    "2. mettre les valeurs de type  VARCHAR entre quote\n",
    "\n",
    "___\n",
    "Par exemple, le statement SQL correspondant la premier ligne de df sera\n",
    "\n",
    "INSERT INTO planet VALUES ('11 Com b', 16.1284, NULL, 326.03, 0.231, 2007.0, 'Radial Velocity', '11 Com', 110.6, 2.7)\n",
    "\n"
   ]
  },
  {
   "cell_type": "code",
   "execution_count": 18,
   "id": "b4209e07",
   "metadata": {},
   "outputs": [],
   "source": [
    "def gen_st_row(df, row_number, cols_num):\n",
    "    # on sélectionne la ligne correspondante dans le DataFrame\n",
    "    row = df.iloc[row_number]\n",
    "\n",
    "    # on initialise le statement d'insertion\n",
    "    insert_statement = \"INSERT INTO planet VALUES (\"\n",
    "\n",
    "    # on parcourt chaque colonne du DataFrame\n",
    "    for col in df.columns:\n",
    "        # on vérifie si la colonne est numérique ou non\n",
    "        if col in cols_num:\n",
    "            # Si la valeur est NaN, la remplacer par NULL, sinon on laisse la valeur\n",
    "            value = str(row[col]) if not pd.isna(row[col]) else \"NULL\"\n",
    "        else:\n",
    "            # Si la valeur est NaN, la remplacer par NULL\n",
    "            # Si la valeur contient des single quotes, les remplacer par double single quotes\n",
    "            value = row[col] if not pd.isna(row[col]) else \"NULL\"\n",
    "            if isinstance(value, str):\n",
    "                value = value.replace(\"'\", \"''\")\n",
    "            value = f\"'{value}'\"\n",
    "        \n",
    "        # on ajoute la valeur au statement d'insertion\n",
    "        insert_statement += f\"{value}, \"\n",
    "\n",
    "    # on supprime la virgule finale et ajouter la parenthèse qui ferme\n",
    "    insert_statement = insert_statement[:-2] + \")\"\n",
    "    \n",
    "    return insert_statement\n"
   ]
  },
  {
   "cell_type": "markdown",
   "id": "9ee9510e-6a8e-4707-8d81-182118851bdd",
   "metadata": {},
   "source": [
    "####  <ins>Étape 3: Insertion des données dans la base</ins>  <a class=\"anchor\" id=\"section_2_3\"></a>\n",
    "Ensuite il suffit d'iterer sur le numero de ligne de df, pour \"remplir\" la table ligne par ligne. \n",
    "On utilisera %%time pour estimer le temps d'execution."
   ]
  },
  {
   "cell_type": "code",
   "execution_count": 19,
   "id": "48cde4dd-c7e0-467c-b22b-2e357d14681f",
   "metadata": {},
   "outputs": [
    {
     "name": "stderr",
     "output_type": "stream",
     "text": [
      "  0%|          | 6/5586 [00:00<08:41, 10.70it/s]"
     ]
    },
    {
     "name": "stderr",
     "output_type": "stream",
     "text": [
      "100%|██████████| 5586/5586 [05:02<00:00, 18.47it/s]"
     ]
    },
    {
     "name": "stdout",
     "output_type": "stream",
     "text": [
      "Temps d'exécution : 302.50287103652954 secondes\n"
     ]
    },
    {
     "name": "stderr",
     "output_type": "stream",
     "text": [
      "\n"
     ]
    }
   ],
   "source": [
    "from IPython.display import display #pour faire jolie\n",
    "from tqdm import tqdm #tqdm est une bibliothèque Python qui fournit une barre de progression élégante et intuitive pour les boucles itératives\n",
    "import time\n",
    "\n",
    "# on définit le nombre total de lignes dans le DataFrame\n",
    "total_rows = len(df)\n",
    "\n",
    "# on utilise %%time pour mesurer le temps d'exécution\n",
    "start_time = time.time()\n",
    "\n",
    "# on insère sur chaque numéro de ligne dans le DataFrame\n",
    "for row_number in tqdm(range(total_rows)):\n",
    "    # on genere le statement d'insertion pour la ligne actuelle\n",
    "    insert_statement = gen_st_row(df, row_number, cols_num)\n",
    "    \n",
    "    # on execute le statement d'insertion dans la base de données\n",
    "    execute_statement(insert_statement, fetch_data=False, db_name='planetes')\n",
    "\n",
    "# Afficher le temps d'exécution\n",
    "end_time = time.time()\n",
    "execution_time = end_time - start_time\n",
    "print(f\"Temps d'exécution : {execution_time} secondes\")\n"
   ]
  },
  {
   "cell_type": "markdown",
   "id": "530b94ef-5b1f-4691-8478-bfd08bf828ff",
   "metadata": {},
   "source": [
    "Au cas où (en cas de probleme) pour redemarer MySQL\n",
    "- sur ubuntu et debian: sudo service mysql restart\n",
    "- sudo systemctl restart mysqld\n",
    "\n",
    "Sur Windows:\n",
    "- Ouvrez le \"Gestionnaire des services\" en appuyant sur Win + R, tapez services.msc, puis appuyez sur Entrée.\n",
    "- Recherchez le service MySQL, cliquez avec le bouton droit de la souris dessus, puis sélectionnez \"Redémarrer\".\n"
   ]
  },
  {
   "cell_type": "markdown",
   "id": "e932559e-421a-456e-b08d-9f1abdadb493",
   "metadata": {},
   "source": [
    "**Verifier que les données sont correctement inserées**"
   ]
  },
  {
   "cell_type": "code",
   "execution_count": 20,
   "id": "33aa1c02",
   "metadata": {},
   "outputs": [
    {
     "name": "stdout",
     "output_type": "stream",
     "text": [
      "Données insérées dans la table planet :\n",
      "\n"
     ]
    },
    {
     "data": {
      "text/html": [
       "<div>\n",
       "<style scoped>\n",
       "    .dataframe tbody tr th:only-of-type {\n",
       "        vertical-align: middle;\n",
       "    }\n",
       "\n",
       "    .dataframe tbody tr th {\n",
       "        vertical-align: top;\n",
       "    }\n",
       "\n",
       "    .dataframe thead th {\n",
       "        text-align: right;\n",
       "    }\n",
       "</style>\n",
       "<table border=\"1\" class=\"dataframe\">\n",
       "  <thead>\n",
       "    <tr style=\"text-align: right;\">\n",
       "      <th></th>\n",
       "      <th>name</th>\n",
       "      <th>mass</th>\n",
       "      <th>radius</th>\n",
       "      <th>orbital_period</th>\n",
       "      <th>eccentricity</th>\n",
       "      <th>discovered</th>\n",
       "      <th>detection_type</th>\n",
       "      <th>star_name</th>\n",
       "      <th>star_distance</th>\n",
       "      <th>star_mass</th>\n",
       "    </tr>\n",
       "  </thead>\n",
       "  <tbody>\n",
       "    <tr>\n",
       "      <th>0</th>\n",
       "      <td>11 Com b</td>\n",
       "      <td>16.1284</td>\n",
       "      <td>None</td>\n",
       "      <td>326.03</td>\n",
       "      <td>0.231</td>\n",
       "      <td>2007.0</td>\n",
       "      <td>Radial Velocity</td>\n",
       "      <td>11 Com</td>\n",
       "      <td>110.6</td>\n",
       "      <td>2.7000</td>\n",
       "    </tr>\n",
       "    <tr>\n",
       "      <th>1</th>\n",
       "      <td>11 Oph b</td>\n",
       "      <td>21.0000</td>\n",
       "      <td>None</td>\n",
       "      <td>730000.00</td>\n",
       "      <td>NaN</td>\n",
       "      <td>2007.0</td>\n",
       "      <td>Imaging</td>\n",
       "      <td>11 Oph</td>\n",
       "      <td>145.0</td>\n",
       "      <td>0.0162</td>\n",
       "    </tr>\n",
       "    <tr>\n",
       "      <th>2</th>\n",
       "      <td>11 UMi b</td>\n",
       "      <td>11.0873</td>\n",
       "      <td>None</td>\n",
       "      <td>516.22</td>\n",
       "      <td>0.080</td>\n",
       "      <td>2009.0</td>\n",
       "      <td>Radial Velocity</td>\n",
       "      <td>11 UMi</td>\n",
       "      <td>119.5</td>\n",
       "      <td>1.8000</td>\n",
       "    </tr>\n",
       "    <tr>\n",
       "      <th>3</th>\n",
       "      <td>14 And b</td>\n",
       "      <td>4.6840</td>\n",
       "      <td>None</td>\n",
       "      <td>185.84</td>\n",
       "      <td>0.000</td>\n",
       "      <td>2008.0</td>\n",
       "      <td>Radial Velocity</td>\n",
       "      <td>14 And</td>\n",
       "      <td>76.4</td>\n",
       "      <td>2.2000</td>\n",
       "    </tr>\n",
       "    <tr>\n",
       "      <th>4</th>\n",
       "      <td>14 Her b</td>\n",
       "      <td>NaN</td>\n",
       "      <td>None</td>\n",
       "      <td>1767.56</td>\n",
       "      <td>0.372</td>\n",
       "      <td>2002.0</td>\n",
       "      <td>Radial Velocity</td>\n",
       "      <td>14 Her</td>\n",
       "      <td>18.1</td>\n",
       "      <td>0.9000</td>\n",
       "    </tr>\n",
       "  </tbody>\n",
       "</table>\n",
       "</div>"
      ],
      "text/plain": [
       "       name     mass radius  orbital_period  eccentricity  discovered  \\\n",
       "0  11 Com b  16.1284   None          326.03         0.231      2007.0   \n",
       "1  11 Oph b  21.0000   None       730000.00           NaN      2007.0   \n",
       "2  11 UMi b  11.0873   None          516.22         0.080      2009.0   \n",
       "3  14 And b   4.6840   None          185.84         0.000      2008.0   \n",
       "4  14 Her b      NaN   None         1767.56         0.372      2002.0   \n",
       "\n",
       "    detection_type star_name  star_distance  star_mass  \n",
       "0  Radial Velocity    11 Com          110.6     2.7000  \n",
       "1          Imaging    11 Oph          145.0     0.0162  \n",
       "2  Radial Velocity    11 UMi          119.5     1.8000  \n",
       "3  Radial Velocity    14 And           76.4     2.2000  \n",
       "4  Radial Velocity    14 Her           18.1     0.9000  "
      ]
     },
     "metadata": {},
     "output_type": "display_data"
    }
   ],
   "source": [
    "# on definit la requête de sélection pour afficher quelques lignes de la table planet\n",
    "select_query = 'SELECT * FROM planet LIMIT 5'  # Sélectionner les 5 premières lignes\n",
    "\n",
    "# on execute la requête de sélection et stocker les résultats dans un DataFrame\n",
    "result_df = read_dataframe(select_query, db_name='planetes')\n",
    "\n",
    "# Afficher le DataFrame contenant les données insérées\n",
    "print(\"Données insérées dans la table planet :\\n\") #\\n c'est pour reveneir à la ligne\n",
    "display(result_df)\n"
   ]
  },
  {
   "cell_type": "markdown",
   "id": "5eca68a0-0a7f-475e-9728-b5e4b4df04ea",
   "metadata": {},
   "source": [
    "#### <ins> Tests </ins>  <a class=\"anchor\" id=\"section_2_3_1\"></a>\n",
    "Pour tester on va lire un le contenue de la table planet dans un nouveau dataframe, df2"
   ]
  },
  {
   "cell_type": "code",
   "execution_count": 21,
   "id": "8b069763-7f6a-49b3-9f1e-6ce995da9e18",
   "metadata": {},
   "outputs": [
    {
     "data": {
      "text/html": [
       "<div>\n",
       "<style scoped>\n",
       "    .dataframe tbody tr th:only-of-type {\n",
       "        vertical-align: middle;\n",
       "    }\n",
       "\n",
       "    .dataframe tbody tr th {\n",
       "        vertical-align: top;\n",
       "    }\n",
       "\n",
       "    .dataframe thead th {\n",
       "        text-align: right;\n",
       "    }\n",
       "</style>\n",
       "<table border=\"1\" class=\"dataframe\">\n",
       "  <thead>\n",
       "    <tr style=\"text-align: right;\">\n",
       "      <th></th>\n",
       "      <th>name</th>\n",
       "      <th>mass</th>\n",
       "      <th>radius</th>\n",
       "      <th>orbital_period</th>\n",
       "      <th>eccentricity</th>\n",
       "      <th>discovered</th>\n",
       "      <th>detection_type</th>\n",
       "      <th>star_name</th>\n",
       "      <th>star_distance</th>\n",
       "      <th>star_mass</th>\n",
       "    </tr>\n",
       "  </thead>\n",
       "  <tbody>\n",
       "    <tr>\n",
       "      <th>0</th>\n",
       "      <td>11 Com b</td>\n",
       "      <td>16.1284</td>\n",
       "      <td>NaN</td>\n",
       "      <td>326.030000</td>\n",
       "      <td>0.231</td>\n",
       "      <td>2007.0</td>\n",
       "      <td>Radial Velocity</td>\n",
       "      <td>11 Com</td>\n",
       "      <td>110.6</td>\n",
       "      <td>2.7000</td>\n",
       "    </tr>\n",
       "    <tr>\n",
       "      <th>1</th>\n",
       "      <td>11 Oph b</td>\n",
       "      <td>21.0000</td>\n",
       "      <td>NaN</td>\n",
       "      <td>730000.000000</td>\n",
       "      <td>NaN</td>\n",
       "      <td>2007.0</td>\n",
       "      <td>Imaging</td>\n",
       "      <td>11 Oph</td>\n",
       "      <td>145.0</td>\n",
       "      <td>0.0162</td>\n",
       "    </tr>\n",
       "    <tr>\n",
       "      <th>2</th>\n",
       "      <td>11 UMi b</td>\n",
       "      <td>11.0873</td>\n",
       "      <td>NaN</td>\n",
       "      <td>516.220000</td>\n",
       "      <td>0.080</td>\n",
       "      <td>2009.0</td>\n",
       "      <td>Radial Velocity</td>\n",
       "      <td>11 UMi</td>\n",
       "      <td>119.5</td>\n",
       "      <td>1.8000</td>\n",
       "    </tr>\n",
       "    <tr>\n",
       "      <th>3</th>\n",
       "      <td>14 And b</td>\n",
       "      <td>4.6840</td>\n",
       "      <td>NaN</td>\n",
       "      <td>185.840000</td>\n",
       "      <td>0.000</td>\n",
       "      <td>2008.0</td>\n",
       "      <td>Radial Velocity</td>\n",
       "      <td>14 And</td>\n",
       "      <td>76.4</td>\n",
       "      <td>2.2000</td>\n",
       "    </tr>\n",
       "    <tr>\n",
       "      <th>4</th>\n",
       "      <td>14 Her b</td>\n",
       "      <td>NaN</td>\n",
       "      <td>NaN</td>\n",
       "      <td>1767.560000</td>\n",
       "      <td>0.372</td>\n",
       "      <td>2002.0</td>\n",
       "      <td>Radial Velocity</td>\n",
       "      <td>14 Her</td>\n",
       "      <td>18.1</td>\n",
       "      <td>0.9000</td>\n",
       "    </tr>\n",
       "    <tr>\n",
       "      <th>...</th>\n",
       "      <td>...</td>\n",
       "      <td>...</td>\n",
       "      <td>...</td>\n",
       "      <td>...</td>\n",
       "      <td>...</td>\n",
       "      <td>...</td>\n",
       "      <td>...</td>\n",
       "      <td>...</td>\n",
       "      <td>...</td>\n",
       "      <td>...</td>\n",
       "    </tr>\n",
       "    <tr>\n",
       "      <th>5581</th>\n",
       "      <td>ZTFJ0220+21 b</td>\n",
       "      <td>14.0000</td>\n",
       "      <td>0.54</td>\n",
       "      <td>0.037000</td>\n",
       "      <td>NaN</td>\n",
       "      <td>2021.0</td>\n",
       "      <td>Primary Transit</td>\n",
       "      <td>ZTFJ0220+21</td>\n",
       "      <td>350.0</td>\n",
       "      <td>0.8300</td>\n",
       "    </tr>\n",
       "    <tr>\n",
       "      <th>5582</th>\n",
       "      <td>ZTFJ0407-00 b</td>\n",
       "      <td>19.0000</td>\n",
       "      <td>0.44</td>\n",
       "      <td>0.024600</td>\n",
       "      <td>NaN</td>\n",
       "      <td>2021.0</td>\n",
       "      <td>Primary Transit</td>\n",
       "      <td>ZTFJ0407-00</td>\n",
       "      <td>810.0</td>\n",
       "      <td>0.7900</td>\n",
       "    </tr>\n",
       "    <tr>\n",
       "      <th>5583</th>\n",
       "      <td>ZTF-J1622+47 b</td>\n",
       "      <td>61.0000</td>\n",
       "      <td>0.98</td>\n",
       "      <td>0.069789</td>\n",
       "      <td>NaN</td>\n",
       "      <td>2022.0</td>\n",
       "      <td>Primary Transit</td>\n",
       "      <td>ZTF-J1622+47</td>\n",
       "      <td>NaN</td>\n",
       "      <td>0.4700</td>\n",
       "    </tr>\n",
       "    <tr>\n",
       "      <th>5584</th>\n",
       "      <td>ZTFJ1637+49 b</td>\n",
       "      <td>23.0000</td>\n",
       "      <td>0.68</td>\n",
       "      <td>0.043000</td>\n",
       "      <td>NaN</td>\n",
       "      <td>2021.0</td>\n",
       "      <td>Primary Transit</td>\n",
       "      <td>ZTFJ1637+49</td>\n",
       "      <td>207.0</td>\n",
       "      <td>0.9000</td>\n",
       "    </tr>\n",
       "    <tr>\n",
       "      <th>5585</th>\n",
       "      <td>ZTFJ2252-05 b</td>\n",
       "      <td>26.0000</td>\n",
       "      <td>0.49</td>\n",
       "      <td>0.024000</td>\n",
       "      <td>NaN</td>\n",
       "      <td>2021.0</td>\n",
       "      <td>Primary Transit</td>\n",
       "      <td>ZTFJ2252-05</td>\n",
       "      <td>536.0</td>\n",
       "      <td>0.7600</td>\n",
       "    </tr>\n",
       "  </tbody>\n",
       "</table>\n",
       "<p>5586 rows × 10 columns</p>\n",
       "</div>"
      ],
      "text/plain": [
       "                name     mass  radius  orbital_period  eccentricity  \\\n",
       "0           11 Com b  16.1284     NaN      326.030000         0.231   \n",
       "1           11 Oph b  21.0000     NaN   730000.000000           NaN   \n",
       "2           11 UMi b  11.0873     NaN      516.220000         0.080   \n",
       "3           14 And b   4.6840     NaN      185.840000         0.000   \n",
       "4           14 Her b      NaN     NaN     1767.560000         0.372   \n",
       "...              ...      ...     ...             ...           ...   \n",
       "5581   ZTFJ0220+21 b  14.0000    0.54        0.037000           NaN   \n",
       "5582   ZTFJ0407-00 b  19.0000    0.44        0.024600           NaN   \n",
       "5583  ZTF-J1622+47 b  61.0000    0.98        0.069789           NaN   \n",
       "5584   ZTFJ1637+49 b  23.0000    0.68        0.043000           NaN   \n",
       "5585   ZTFJ2252-05 b  26.0000    0.49        0.024000           NaN   \n",
       "\n",
       "      discovered   detection_type     star_name  star_distance  star_mass  \n",
       "0         2007.0  Radial Velocity        11 Com          110.6     2.7000  \n",
       "1         2007.0          Imaging        11 Oph          145.0     0.0162  \n",
       "2         2009.0  Radial Velocity        11 UMi          119.5     1.8000  \n",
       "3         2008.0  Radial Velocity        14 And           76.4     2.2000  \n",
       "4         2002.0  Radial Velocity        14 Her           18.1     0.9000  \n",
       "...          ...              ...           ...            ...        ...  \n",
       "5581      2021.0  Primary Transit   ZTFJ0220+21          350.0     0.8300  \n",
       "5582      2021.0  Primary Transit   ZTFJ0407-00          810.0     0.7900  \n",
       "5583      2022.0  Primary Transit  ZTF-J1622+47            NaN     0.4700  \n",
       "5584      2021.0  Primary Transit   ZTFJ1637+49          207.0     0.9000  \n",
       "5585      2021.0  Primary Transit   ZTFJ2252-05          536.0     0.7600  \n",
       "\n",
       "[5586 rows x 10 columns]"
      ]
     },
     "execution_count": 21,
     "metadata": {},
     "output_type": "execute_result"
    }
   ],
   "source": [
    "df2 = read_dataframe(\"SELECT * FROM planet\", db_name='planetes')\n",
    "df2 = df2.drop_duplicates() # on supprime tous les doublons dans la df2 si il y en a \n",
    "df2.replace('NULL', np.nan, inplace=True) # on change tout les NUll en Nan \n",
    "df2"
   ]
  },
  {
   "cell_type": "markdown",
   "id": "7b64640f-7858-479a-9efe-6a36e4e7c65b",
   "metadata": {},
   "source": [
    "1. on verifie (programatiquement) que df et df2 ont meme tailles, meme noms de colonnes et memes contenus apres avoir arrondi les numeriques"
   ]
  },
  {
   "cell_type": "code",
   "execution_count": 22,
   "id": "890f25ee-2ca9-46be-a516-d18ee4d79280",
   "metadata": {},
   "outputs": [],
   "source": [
    "#compare deux colonnes de meme tailles\n",
    "#s1 et s2 sont des Series\n",
    "def compare_columns(s1, s2):\n",
    "    if len(s1)!=len(s2):\n",
    "        print(\"size mismatch\")\n",
    "        return False\n",
    "    if s1.dtypes != s2.dtypes:\n",
    "        print(\"type mismatch\")\n",
    "        return False\n",
    "\n",
    "    for i in range(len(s1)):\n",
    "        if pd.isna(s1[i]) and pd.isna(s2[i]):\n",
    "            continue\n",
    "        if pd.isna(s1[i]) or pd.isna(s2[i]):\n",
    "            print(\"issues with element\", i)\n",
    "            return False\n",
    "        #en cas de valeurs numeriques on arrondi\n",
    "        if pd.api.types.is_number(s1[i]) and round(s1[i],0) != round(s2[i], 0):\n",
    "            print(\"issues with element\", i)\n",
    "            return False\n",
    "        if not (pd.api.types.is_number(s1[i])) and s1[i] != s2[i]:\n",
    "            print(\"issues with element\", i)\n",
    "            return False \n",
    "\n",
    "    return True\n",
    "\n"
   ]
  },
  {
   "cell_type": "code",
   "execution_count": 23,
   "id": "d2f80d3f",
   "metadata": {},
   "outputs": [
    {
     "name": "stdout",
     "output_type": "stream",
     "text": [
      "all ok (after rounding)\n"
     ]
    }
   ],
   "source": [
    "# Test 1\n",
    "\n",
    "df = pd.read_csv(\"exoplanets.csv\")\n",
    "\n",
    "cols = ['name', 'mass', 'radius', 'orbital_period', 'eccentricity', 'discovered', 'detection_type',\n",
    "        'star_name', 'star_distance', 'star_mass']\n",
    "df = df[cols]\n",
    "\n",
    "# Read data from the database, convert 'NULL' to NaN, and drop duplicates\n",
    "df2 = read_dataframe(\"SELECT * FROM planet\", db_name='planetes')\n",
    "df2 = df2.replace('NULL', np.nan)\n",
    "df2 = df2.drop_duplicates()\n",
    "\n",
    "# Verify each column\n",
    "ok = True\n",
    "for col in df.columns:\n",
    "    if not compare_columns(df[col], df2[col]):\n",
    "        print(\"problem with column\", col)\n",
    "        ok=False\n",
    "if ok:\n",
    "    print(\"all ok (after rounding)\")\n"
   ]
  },
  {
   "cell_type": "markdown",
   "id": "77b9663a-80bf-44db-b426-62baa274b859",
   "metadata": {},
   "source": [
    "2. Qu'est ce qui se passe si on n'omet d'arrondir ? Comment pourrait on resoudre ce probleme ? \n",
    "<div class=\"alert alert-block alert-warning\">\n",
    "<b>Arrondir:</b> \n",
    "Si nous omettons d'arrondir les valeurs numériques lors de la comparaison entre les colonnes de df et df2, cela peut entraîner des différences dans les résultats de la comparaison, car les valeurs numériques peuvent différer légèrement en raison de précisions différentes lors de leur stockage dans la base de données.\n",
    "\n",
    "Pour résoudre ce problème, nous pouvons arrondir les valeurs numériques dans les deux DataFrames avant de les comparer. Cela garantit que les valeurs sont comparées de manière équitable en ignorant les différences mineures dues à la précision de stockage.\n",
    "</div>"
   ]
  },
  {
   "cell_type": "code",
   "execution_count": 24,
   "id": "e5258cbb-8cfa-4d43-b519-e14f0d52a1b1",
   "metadata": {},
   "outputs": [
    {
     "name": "stdout",
     "output_type": "stream",
     "text": [
      "all ok (after rounding)\n"
     ]
    }
   ],
   "source": [
    "# Test 1\n",
    "\n",
    "df = pd.read_csv(\"exoplanets.csv\")\n",
    "\n",
    "cols = ['name', 'mass', 'radius', 'orbital_period', 'eccentricity', 'discovered', 'detection_type',\n",
    "        'star_name', 'star_distance', 'star_mass']\n",
    "df = df[cols]\n",
    "\n",
    "# on lit la data de la database, on convertit 'NULL' en NaN, et on drop les duplicats\n",
    "df2 = read_dataframe(\"SELECT * FROM planet\", db_name='planetes')\n",
    "df2 = df2.replace('NULL', np.nan)\n",
    "df2 = df2.drop_duplicates()\n",
    "\n",
    "# on  arrondit les numériquesdans les deux dataframes \n",
    "numeric_cols = df.select_dtypes(include=np.number).columns.tolist()\n",
    "df[numeric_cols] = df[numeric_cols].round(0)\n",
    "df2[numeric_cols] = df2[numeric_cols].round(0)\n",
    "\n",
    "# on verfiei chaque colonne\n",
    "ok = True\n",
    "for col in df.columns:\n",
    "    if not compare_columns(df[col], df2[col]):\n",
    "        print(\"problem with column\", col)\n",
    "        ok=False\n",
    "if ok:\n",
    "    print(\"all ok (after rounding)\")\n"
   ]
  },
  {
   "cell_type": "markdown",
   "id": "5c7858c6-b437-4bf7-908e-4739286a142a",
   "metadata": {},
   "source": [
    "####  <ins>Étape 4: Amelioration des performances</ins>  <a class=\"anchor\" id=\"section_2_4\"></a>\n",
    "On pourrais rendre cela plus efficace en reutilisant la connection à MySQL pour chaque statement. Mais on devrait pourvoir faire encore \n",
    "mieux en generant un statement unique pour inserer toutes les données d'un coup.\n",
    "Faites le, executez les tests et comparer les temps d'execution et tester la correction du resultat\n"
   ]
  },
  {
   "cell_type": "code",
   "execution_count": 31,
   "id": "e024a8ea-6dce-4597-bab9-5bc0ccf0892b",
   "metadata": {},
   "outputs": [],
   "source": [
    "def gen_insert_statement(df, cols_num):\n",
    "    # Initialize the insertion statement\n",
    "    insert_statement = \"INSERT INTO planet VALUES \"\n",
    "\n",
    "    # Iterate over each row of the DataFrame\n",
    "    for index, row in df.iterrows():\n",
    "        insert_statement += \"(\"\n",
    "\n",
    "        # Iterate over each column of the DataFrame\n",
    "        for col in df.columns:\n",
    "            # Check if the column is numeric or not\n",
    "            if col in cols_num:\n",
    "                # Replace NaN with NULL for numeric columns\n",
    "                value = str(row[col]) if not pd.isna(row[col]) else \"NULL\"\n",
    "            else:\n",
    "                # Replace NaN with NULL and handle single quotes\n",
    "                value = row[col] if not pd.isna(row[col]) else \"NULL\"\n",
    "                if isinstance(value, str):\n",
    "                    value = value.replace(\"'\", \"''\")\n",
    "                value = f\"'{value}'\"\n",
    "\n",
    "            # Add the value to the insertion statement for this row\n",
    "            insert_statement += f\"{value}, \"\n",
    "\n",
    "        # Remove the final comma and add the closing parenthesis for this row\n",
    "        insert_statement = insert_statement[:-2] + \"), \"\n",
    "\n",
    "    # Remove the final comma and add a semicolon at the end of the insertion statement\n",
    "    insert_statement = insert_statement[:-2] + \";\"\n",
    "\n",
    "    return insert_statement\n"
   ]
  },
  {
   "cell_type": "code",
   "execution_count": 46,
   "id": "4fd35cd2-177b-4556-9825-fbee9a9c5746",
   "metadata": {},
   "outputs": [
    {
     "ename": "KeyboardInterrupt",
     "evalue": "",
     "output_type": "error",
     "traceback": [
      "\u001b[0;31m---------------------------------------------------------------------------\u001b[0m",
      "\u001b[0;31mKeyboardInterrupt\u001b[0m                         Traceback (most recent call last)",
      "\u001b[1;32m/Users/anais/projet data/TME 8.ipynb Cellule 45\u001b[0m line \u001b[0;36m5\n\u001b[1;32m      <a href='vscode-notebook-cell:/Users/anais/projet%20data/TME%208.ipynb#X62sZmlsZQ%3D%3D?line=1'>2</a>\u001b[0m start_time \u001b[39m=\u001b[39m time\u001b[39m.\u001b[39mtime()\n\u001b[1;32m      <a href='vscode-notebook-cell:/Users/anais/projet%20data/TME%208.ipynb#X62sZmlsZQ%3D%3D?line=3'>4</a>\u001b[0m \u001b[39m# Generate the single insertion statement and execute it\u001b[39;00m\n\u001b[0;32m----> <a href='vscode-notebook-cell:/Users/anais/projet%20data/TME%208.ipynb#X62sZmlsZQ%3D%3D?line=4'>5</a>\u001b[0m insert_statement \u001b[39m=\u001b[39m gen_insert_statement(df, cols_num)\n\u001b[1;32m      <a href='vscode-notebook-cell:/Users/anais/projet%20data/TME%208.ipynb#X62sZmlsZQ%3D%3D?line=5'>6</a>\u001b[0m execute_statement(insert_statement, fetch_data\u001b[39m=\u001b[39m\u001b[39mFalse\u001b[39;00m, db_name\u001b[39m=\u001b[39m\u001b[39m'\u001b[39m\u001b[39mplanetes\u001b[39m\u001b[39m'\u001b[39m)\n\u001b[1;32m      <a href='vscode-notebook-cell:/Users/anais/projet%20data/TME%208.ipynb#X62sZmlsZQ%3D%3D?line=6'>7</a>\u001b[0m df\u001b[39m.\u001b[39mdrop_duplicates()\n",
      "\u001b[1;32m/Users/anais/projet data/TME 8.ipynb Cellule 45\u001b[0m line \u001b[0;36m6\n\u001b[1;32m      <a href='vscode-notebook-cell:/Users/anais/projet%20data/TME%208.ipynb#X62sZmlsZQ%3D%3D?line=2'>3</a>\u001b[0m insert_statement \u001b[39m=\u001b[39m \u001b[39m\"\u001b[39m\u001b[39mINSERT INTO planet VALUES \u001b[39m\u001b[39m\"\u001b[39m\n\u001b[1;32m      <a href='vscode-notebook-cell:/Users/anais/projet%20data/TME%208.ipynb#X62sZmlsZQ%3D%3D?line=4'>5</a>\u001b[0m \u001b[39m# Iterate over each row of the DataFrame\u001b[39;00m\n\u001b[0;32m----> <a href='vscode-notebook-cell:/Users/anais/projet%20data/TME%208.ipynb#X62sZmlsZQ%3D%3D?line=5'>6</a>\u001b[0m \u001b[39mfor\u001b[39;00m index, row \u001b[39min\u001b[39;00m df\u001b[39m.\u001b[39miterrows():\n\u001b[1;32m      <a href='vscode-notebook-cell:/Users/anais/projet%20data/TME%208.ipynb#X62sZmlsZQ%3D%3D?line=6'>7</a>\u001b[0m     insert_statement \u001b[39m+\u001b[39m\u001b[39m=\u001b[39m \u001b[39m\"\u001b[39m\u001b[39m(\u001b[39m\u001b[39m\"\u001b[39m\n\u001b[1;32m      <a href='vscode-notebook-cell:/Users/anais/projet%20data/TME%208.ipynb#X62sZmlsZQ%3D%3D?line=8'>9</a>\u001b[0m     \u001b[39m# Iterate over each column of the DataFrame\u001b[39;00m\n",
      "File \u001b[0;32m~/anaconda3/lib/python3.10/site-packages/pandas/core/frame.py:1411\u001b[0m, in \u001b[0;36mDataFrame.iterrows\u001b[0;34m(self)\u001b[0m\n\u001b[1;32m   1409\u001b[0m klass \u001b[39m=\u001b[39m \u001b[39mself\u001b[39m\u001b[39m.\u001b[39m_constructor_sliced\n\u001b[1;32m   1410\u001b[0m \u001b[39mfor\u001b[39;00m k, v \u001b[39min\u001b[39;00m \u001b[39mzip\u001b[39m(\u001b[39mself\u001b[39m\u001b[39m.\u001b[39mindex, \u001b[39mself\u001b[39m\u001b[39m.\u001b[39mvalues):\n\u001b[0;32m-> 1411\u001b[0m     s \u001b[39m=\u001b[39m klass(v, index\u001b[39m=\u001b[39;49mcolumns, name\u001b[39m=\u001b[39;49mk)\u001b[39m.\u001b[39m__finalize__(\u001b[39mself\u001b[39m)\n\u001b[1;32m   1412\u001b[0m     \u001b[39myield\u001b[39;00m k, s\n",
      "File \u001b[0;32m~/anaconda3/lib/python3.10/site-packages/pandas/core/series.py:483\u001b[0m, in \u001b[0;36mSeries.__init__\u001b[0;34m(self, data, index, dtype, name, copy, fastpath)\u001b[0m\n\u001b[1;32m    481\u001b[0m     \u001b[39mobject\u001b[39m\u001b[39m.\u001b[39m\u001b[39m__setattr__\u001b[39m(\u001b[39mself\u001b[39m, \u001b[39m\"\u001b[39m\u001b[39m_name\u001b[39m\u001b[39m\"\u001b[39m, name)\n\u001b[1;32m    482\u001b[0m \u001b[39melse\u001b[39;00m:\n\u001b[0;32m--> 483\u001b[0m     \u001b[39mself\u001b[39m\u001b[39m.\u001b[39mname \u001b[39m=\u001b[39m name\n\u001b[1;32m    484\u001b[0m     \u001b[39mself\u001b[39m\u001b[39m.\u001b[39m_set_axis(\u001b[39m0\u001b[39m, index)\n",
      "File \u001b[0;32m~/anaconda3/lib/python3.10/site-packages/pandas/core/generic.py:5924\u001b[0m, in \u001b[0;36mNDFrame.__setattr__\u001b[0;34m(self, name, value)\u001b[0m\n\u001b[1;32m   5922\u001b[0m     \u001b[39mobject\u001b[39m\u001b[39m.\u001b[39m\u001b[39m__setattr__\u001b[39m(\u001b[39mself\u001b[39m, name, value)\n\u001b[1;32m   5923\u001b[0m \u001b[39melif\u001b[39;00m name \u001b[39min\u001b[39;00m \u001b[39mself\u001b[39m\u001b[39m.\u001b[39m_metadata:\n\u001b[0;32m-> 5924\u001b[0m     \u001b[39mobject\u001b[39;49m\u001b[39m.\u001b[39;49m\u001b[39m__setattr__\u001b[39;49m(\u001b[39mself\u001b[39;49m, name, value)\n\u001b[1;32m   5925\u001b[0m \u001b[39melse\u001b[39;00m:\n\u001b[1;32m   5926\u001b[0m     \u001b[39mtry\u001b[39;00m:\n",
      "File \u001b[0;32m~/anaconda3/lib/python3.10/site-packages/pandas/core/series.py:663\u001b[0m, in \u001b[0;36mSeries.name\u001b[0;34m(self, value)\u001b[0m\n\u001b[1;32m    661\u001b[0m \u001b[39m@name\u001b[39m\u001b[39m.\u001b[39msetter\n\u001b[1;32m    662\u001b[0m \u001b[39mdef\u001b[39;00m \u001b[39mname\u001b[39m(\u001b[39mself\u001b[39m, value: Hashable) \u001b[39m-\u001b[39m\u001b[39m>\u001b[39m \u001b[39mNone\u001b[39;00m:\n\u001b[0;32m--> 663\u001b[0m     validate_all_hashable(value, error_name\u001b[39m=\u001b[39;49m\u001b[39mf\u001b[39;49m\u001b[39m\"\u001b[39;49m\u001b[39m{\u001b[39;49;00m\u001b[39mtype\u001b[39;49m(\u001b[39mself\u001b[39;49m)\u001b[39m.\u001b[39;49m\u001b[39m__name__\u001b[39;49m\u001b[39m}\u001b[39;49;00m\u001b[39m.name\u001b[39;49m\u001b[39m\"\u001b[39;49m)\n\u001b[1;32m    664\u001b[0m     \u001b[39mobject\u001b[39m\u001b[39m.\u001b[39m\u001b[39m__setattr__\u001b[39m(\u001b[39mself\u001b[39m, \u001b[39m\"\u001b[39m\u001b[39m_name\u001b[39m\u001b[39m\"\u001b[39m, value)\n",
      "File \u001b[0;32m~/anaconda3/lib/python3.10/site-packages/pandas/core/dtypes/common.py:1744\u001b[0m, in \u001b[0;36mvalidate_all_hashable\u001b[0;34m(error_name, *args)\u001b[0m\n\u001b[1;32m   1725\u001b[0m \u001b[39mdef\u001b[39;00m \u001b[39mvalidate_all_hashable\u001b[39m(\u001b[39m*\u001b[39margs, error_name: \u001b[39mstr\u001b[39m \u001b[39m|\u001b[39m \u001b[39mNone\u001b[39;00m \u001b[39m=\u001b[39m \u001b[39mNone\u001b[39;00m) \u001b[39m-\u001b[39m\u001b[39m>\u001b[39m \u001b[39mNone\u001b[39;00m:\n\u001b[1;32m   1726\u001b[0m     \u001b[39m\"\"\"\u001b[39;00m\n\u001b[1;32m   1727\u001b[0m \u001b[39m    Return None if all args are hashable, else raise a TypeError.\u001b[39;00m\n\u001b[1;32m   1728\u001b[0m \n\u001b[0;32m   (...)\u001b[0m\n\u001b[1;32m   1742\u001b[0m \u001b[39m    None\u001b[39;00m\n\u001b[1;32m   1743\u001b[0m \u001b[39m    \"\"\"\u001b[39;00m\n\u001b[0;32m-> 1744\u001b[0m     \u001b[39mif\u001b[39;00m \u001b[39mnot\u001b[39;00m \u001b[39mall\u001b[39;49m(is_hashable(arg) \u001b[39mfor\u001b[39;49;00m arg \u001b[39min\u001b[39;49;00m args):\n\u001b[1;32m   1745\u001b[0m         \u001b[39mif\u001b[39;00m error_name:\n\u001b[1;32m   1746\u001b[0m             \u001b[39mraise\u001b[39;00m \u001b[39mTypeError\u001b[39;00m(\u001b[39mf\u001b[39m\u001b[39m\"\u001b[39m\u001b[39m{\u001b[39;00merror_name\u001b[39m}\u001b[39;00m\u001b[39m must be a hashable type\u001b[39m\u001b[39m\"\u001b[39m)\n",
      "File \u001b[0;32m~/anaconda3/lib/python3.10/site-packages/pandas/core/dtypes/common.py:1744\u001b[0m, in \u001b[0;36m<genexpr>\u001b[0;34m(.0)\u001b[0m\n\u001b[1;32m   1725\u001b[0m \u001b[39mdef\u001b[39;00m \u001b[39mvalidate_all_hashable\u001b[39m(\u001b[39m*\u001b[39margs, error_name: \u001b[39mstr\u001b[39m \u001b[39m|\u001b[39m \u001b[39mNone\u001b[39;00m \u001b[39m=\u001b[39m \u001b[39mNone\u001b[39;00m) \u001b[39m-\u001b[39m\u001b[39m>\u001b[39m \u001b[39mNone\u001b[39;00m:\n\u001b[1;32m   1726\u001b[0m     \u001b[39m\"\"\"\u001b[39;00m\n\u001b[1;32m   1727\u001b[0m \u001b[39m    Return None if all args are hashable, else raise a TypeError.\u001b[39;00m\n\u001b[1;32m   1728\u001b[0m \n\u001b[0;32m   (...)\u001b[0m\n\u001b[1;32m   1742\u001b[0m \u001b[39m    None\u001b[39;00m\n\u001b[1;32m   1743\u001b[0m \u001b[39m    \"\"\"\u001b[39;00m\n\u001b[0;32m-> 1744\u001b[0m     \u001b[39mif\u001b[39;00m \u001b[39mnot\u001b[39;00m \u001b[39mall\u001b[39m(is_hashable(arg) \u001b[39mfor\u001b[39;00m arg \u001b[39min\u001b[39;00m args):\n\u001b[1;32m   1745\u001b[0m         \u001b[39mif\u001b[39;00m error_name:\n\u001b[1;32m   1746\u001b[0m             \u001b[39mraise\u001b[39;00m \u001b[39mTypeError\u001b[39;00m(\u001b[39mf\u001b[39m\u001b[39m\"\u001b[39m\u001b[39m{\u001b[39;00merror_name\u001b[39m}\u001b[39;00m\u001b[39m must be a hashable type\u001b[39m\u001b[39m\"\u001b[39m)\n",
      "\u001b[0;31mKeyboardInterrupt\u001b[0m: "
     ]
    }
   ],
   "source": [
    "# Measure the execution time of the optimized insertion method\n",
    "start_time = time.time()\n",
    "\n",
    "# Generate the single insertion statement and execute it\n",
    "insert_statement = gen_insert_statement(df, cols_num)\n",
    "execute_statement(insert_statement, fetch_data=False, db_name='planetes')\n",
    "df.drop_duplicates()\n",
    "\n",
    "# Calculate the execution time\n",
    "end_time = time.time()\n",
    "execution_time_optimized = end_time - start_time\n",
    "\n",
    "# Compare the execution times\n",
    "print(f\"Execution time (optimized): {execution_time_optimized} seconds\")\n",
    "print(f\"Execution time (previous): {execution_time} seconds\")\n",
    "\n",
    "# Read data from the database and ensure consistency with df\n",
    "df_from_db = read_dataframe(\"SELECT * FROM planet\", db_name='planetes')\n",
    "#df_from_db.replace('NULL', np.nan, inplace=True)\n",
    "df_from_db = df_from_db.drop_duplicates()\n",
    "\n",
    "if df.equals(df_from_db):\n",
    "    print(\"Inserted data matches the original DataFrame.\")\n",
    "else:\n",
    "    print(\"Inserted data does not match the original DataFrame.\")"
   ]
  },
  {
   "cell_type": "code",
   "execution_count": 45,
   "id": "658d7ab0",
   "metadata": {},
   "outputs": [
    {
     "name": "stdout",
     "output_type": "stream",
     "text": [
      "(11124, 10)\n",
      "(11172, 10)\n"
     ]
    }
   ],
   "source": [
    "print(df_from_db.shape)\n",
    "print(df.shape)"
   ]
  },
  {
   "cell_type": "markdown",
   "id": "9bb54e8a",
   "metadata": {},
   "source": [
    "### <ins>Introduction : description des données et quelle tâche y est associée</ins> <a class=\"anchor\" id=\"chapter1\"></a>\n",
    "\n",
    "\n",
    "On va \"ameliorer\" notre client en creant deux fonctions\n",
    "- execute_statement qui va executer une statement SQL et ramener le result set si fetch_data=True (attention il faut que ce soit pertinent)\n",
    "- read_dataframe : qui va executer une query \"SELECT ...\" et retourner un dataframe former avec le resultat\n",
    "\n",
    "on s'assurera aussi explicitement que toutes les connections à MySQL sont bien fermées à la sortie de ces fonctions"
   ]
  },
  {
   "cell_type": "markdown",
   "id": "23c52198-6031-4052-9c8a-b2e1db8d6c7a",
   "metadata": {},
   "source": [
    "####  <ins>Étape 5: Méthode alternative</ins>  <a class=\"anchor\" id=\"section_2_5\"></a>\n",
    "\n",
    "____\n",
    "\n",
    "Enfin apres avoir exportant df vers un fichier csv de maniere appropriée (en specifiant les caracteristiques du dialectes CSV et \n",
    "en evitant de creer une colonne pour l'indexe) utiliser LOAD DATA INFILE pour creer la table et comparer les temps d'execution.\n",
    "Tester la correction des resultats "
   ]
  },
  {
   "cell_type": "code",
   "execution_count": 28,
   "id": "1f7a8949-6084-4f8a-958c-684ed098c456",
   "metadata": {},
   "outputs": [
    {
     "name": "stdout",
     "output_type": "stream",
     "text": [
      "Inserted data matches the original DataFrame.\n"
     ]
    }
   ],
   "source": [
    "import pandas as pd\n",
    "from sqlalchemy import create_engine, text as sql_text\n",
    "import csv\n",
    "\n",
    "username = 'root'\n",
    "password = 'Paris2024*'\n",
    "host = 'localhost'\n",
    "port = '3306'\n",
    "database = 'planetes'\n",
    "\n",
    "# Create a connection to the MySQL database\n",
    "engine = create_engine(f'mysql+mysqlconnector://{username}:{password}@{host}:{port}/{database}')\n",
    "\n",
    "# Load data from the 'planet' table in the database into a DataFrame\n",
    "df = read_dataframe(\"SELECT * FROM planet\", db_name='planetes')\n",
    "\n",
    "# Export the DataFrame to a CSV file\n",
    "csv_filename = \"exoplanets_export.csv\"\n",
    "df.to_csv(csv_filename, index=False, quoting=csv.QUOTE_NONNUMERIC)\n",
    "\n",
    "# Insert the data from the DataFrame into the 'planet' table in the database\n",
    "df.to_sql('planet', con=engine, if_exists='replace', index=False)\n",
    "\n",
    "# Verify that the data was inserted correctly by reading it back from the database\n",
    "query = \"SELECT * FROM planet\"\n",
    "df_from_db = pd.read_sql(con=engine.connect(), sql=sql_text(query))\n",
    "if df.equals(df_from_db):\n",
    "    print(\"Inserted data matches the original DataFrame.\")\n",
    "else:\n",
    "    print(\"Inserted data does not match the original DataFrame.\")\n"
   ]
  }
 ],
 "metadata": {
  "kernelspec": {
   "display_name": "Python 3 (ipykernel)",
   "language": "python",
   "name": "python3"
  },
  "language_info": {
   "codemirror_mode": {
    "name": "ipython",
    "version": 3
   },
   "file_extension": ".py",
   "mimetype": "text/x-python",
   "name": "python",
   "nbconvert_exporter": "python",
   "pygments_lexer": "ipython3",
   "version": "3.10.9"
  }
 },
 "nbformat": 4,
 "nbformat_minor": 5
}
